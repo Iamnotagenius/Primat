{
 "cells": [
  {
   "cell_type": "markdown",
   "metadata": {},
   "source": [
    "# Лабораторная работа №3 (Методы спуска)\n",
    "---\n",
    "## Работу выполнили:\n",
    "Обиджанов Алишер<br>\n",
    "Кузнецов Павел<br>\n",
    "Казаков Андрей<br>\n",
    "\n",
    "**Дата:**\n",
    "\n",
    "---\n",
    "## Градентный спуск:\n",
    "**Теория**:\n"
   ]
  }
 ],
 "metadata": {
  "language_info": {
   "name": "python"
  },
  "orig_nbformat": 4
 },
 "nbformat": 4,
 "nbformat_minor": 2
}
