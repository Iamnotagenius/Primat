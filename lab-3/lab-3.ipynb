{
 "cells": [
  {
   "attachments": {},
   "cell_type": "markdown",
   "metadata": {},
   "source": [
    "# Лабораторная работа №3 (Методы спуска)\n",
    "---\n",
    "### Работу выполнили:\n",
    "Обиджанов Алишер<br>\n",
    "Кузнецов Павел<br>\n",
    "Казаков Андрей<br>\n",
    "\n",
    "**Дата:**\n",
    "\n",
    "---\n",
    "### 1) Градиентный спуск с постоянным шагом:\n",
    "**Теория:**\n",
    "\n",
    "$F(x_1, x_2, \\dots, x_n) \\rightarrow min$\n",
    "\n",
    "Если функция $F$ диффернцируется, то задачу на минимум можно решать с помощью градиентных методов.\n",
    "\n",
    "$\\nabla F(x) =\n",
    "\\left(\n",
    "    \\begin{matrix}\n",
    "    \\frac{\\partial F}{\\partial x_1}\\\\\n",
    "    \\frac{\\partial F}{\\partial x_2}\\\\\n",
    "    \\dots\\\\\n",
    "    \\frac{\\partial F}{\\partial x_n}\n",
    "    \\end{matrix}\n",
    "\\right)$\n",
    "\n",
    "$x^0=\n",
    "\\left(\n",
    "    \\begin{matrix}\n",
    "    x^0_1\\\\\n",
    "    \\dots\\\\\n",
    "    x^0_n\n",
    "    \\end{matrix}\n",
    "\\right) \\qquad x^1= x^0-\\nabla \\alpha F(x^0) \\qquad x^i=x^{i-1}-\\nabla \\alpha F(x^{i-1})$\n",
    "\n",
    "$\\alpha$ - скорость спуска, $\\alpha > 0$ (Чем меньше $\\alpha$, тем точнее шаг)\n",
    "\n",
    "Для того, что бы найти шаг:\n",
    "\n",
    "$\\nabla F(x^1(\\alpha)) \\rightarrow \\underset{\\alpha}{min}$\n",
    "\n",
    "$\\alpha = arg\\space\\underset{\\alpha}{min} \\nabla F(x'(\\alpha))$\n",
    "\n",
    "**Реализуем пример в коде:**"
   ]
  },
  {
   "cell_type": "code",
   "execution_count": 13,
   "metadata": {},
   "outputs": [
    {
     "data": {
      "text/plain": [
       "<function matplotlib.pyplot.show(close=None, block=None)>"
      ]
     },
     "execution_count": 13,
     "metadata": {},
     "output_type": "execute_result"
    },
    {
     "data": {
      "image/png": "[encoded data removed]",
      "text/plain": [
       "<Figure size 640x480 with 1 Axes>"
      ]
     },
     "metadata": {},
     "output_type": "display_data"
    }
   ],
   "source": [
    "import numpy as np\n",
    "import matplotlib.pyplot as plt\n",
    "\n",
    "#какая-то функция\n",
    "def f(x):\n",
    "    return (x+1)**2 + 3\n",
    "\n",
    "def derivative(f, x):\n",
    "    dx=1e-5\n",
    "    return (f(x+dx)-f(x-dx))/(2*dx)\n",
    "\n",
    "def grad(f, der, x0=None, iters=100, alpha=0.05):\n",
    "    if(x0==None):\n",
    "        x0=np.random.uniform(-5, 2)\n",
    "\n",
    "    xk=x0\n",
    "    arr_xk=np.array([x0])\n",
    "    for i in range(iters-1):\n",
    "        xk=xk-alpha*der(f, xk)\n",
    "        arr_xk=np.append(arr_xk, xk)\n",
    "    return arr_xk\n",
    "\n",
    "x=np.linspace(-4, 4, 100)\n",
    "y=np.array([f(a) for a in x])\n",
    "px=grad(f, derivative, x0=-4, iters=100)\n",
    "py=np.array([f(a) for a in px])\n",
    "\n",
    "fig = plt.figure()\n",
    "ax=fig.add_subplot()\n",
    "ax.plot(x,y)\n",
    "ax.scatter(px, py, color=\"red\")\n",
    "ax.grid()\n",
    "plt.show"
   ]
  },
  {
   "attachments": {},
   "cell_type": "markdown",
   "metadata": {},
   "source": [
    "### Градиентный спуск с дроблением шага и условием Армихо\n",
    "\n",
    "Рассматривается функция\n",
    "$$\\phi_k(\\alpha):=f(x_k+ad_k)$$\n",
    "Заметим, что\n",
    "$$\\phi_k(\\alpha)=\\nabla f(x_k+\\alpha d_k)^T d_k$$\n",
    "Поскольку d_k является направлением спуска, то $\\phi'(0)=\\nabla f(x_k)^T d_k <0$\n",
    "\n",
    "**Условием Армихо** для $\\alpha$ называется выполнение следующего неравенства:\n",
    "$$\\phi_k(\\alpha) \\le \\phi_k(0) + c_1\\alpha\\phi'_k(0)$$\n",
    "где $c_1 \\in (0, 0.5)$ - некоторая константа\n",
    "\n",
    "**Реализуем пример в коде:**"
   ]
  }
 ],
 "metadata": {
  "kernelspec": {
   "display_name": "Python 3",
   "language": "python",
   "name": "python3"
  },
  "language_info": {
   "codemirror_mode": {
    "name": "ipython",
    "version": 3
   },
   "file_extension": ".py",
   "mimetype": "text/x-python",
   "name": "python",
   "nbconvert_exporter": "python",
   "pygments_lexer": "ipython3",
   "version": "3.11.3"
  },
  "orig_nbformat": 4
 },
 "nbformat": 4,
 "nbformat_minor": 2
}
