{
 "cells": [
  {
   "cell_type": "code",
   "execution_count": null,
   "id": "0fd76b64",
   "metadata": {},
   "outputs": [],
   "source": [
    "import numpy as np\n",
    "import matplotlib.pyplot as plt\n",
    "rnjesus = np.random.default_rng(42)\n",
    "\n",
    "p = np.genfromtxt(\"./probability_matrix.csv\", delimiter=\",\")\n",
    "n = p.shape[0]\n",
    "EPSILON = 1e-9\n",
    "K=100\n",
    "s0 = np.full(n, 1 / n)\n",
    "s1 = rnjesus.dirichlet(np.ones(n))\n",
    "\n",
    "print(p)\n",
    "print(f\"{s0}: {s0.sum()}\")\n",
    "print(f\"{s1}: {s1.sum()}\")"
   ]
  },
  {
   "cell_type": "code",
   "execution_count": null,
   "id": "960c32ae",
   "metadata": {},
   "outputs": [],
   "source": [
    "s0_step = s0.copy()\n",
    "s1_step = s1.copy()\n",
    "s0_std = [s0.std()]\n",
    "s1_std = [s1.std()]\n",
    "\n",
    "for _ in range(100):\n",
    "    s0_step @= p\n",
    "    s1_step @= p\n",
    "    s0_std.append(s0_step.std())\n",
    "    s1_std.append(s1_step.std())\n",
    "    if (s0_step - s1_step).std() < EPSILON:\n",
    "        break\n",
    "\n",
    "print(s0_step)\n",
    "\n",
    "plt.plot(s0_std, label=\"$S_0$\")\n",
    "plt.plot(s1_std, label=\"$S_1$\")\n",
    "plt.xlabel(\"i\")\n",
    "plt.ylabel(\"std\")\n",
    "plt.legend()\n",
    "plt.show()\n",
    "\n",
    "plt.title(\"Предельное распределение вероятностей по моделлированию\")\n",
    "plt.stairs(s0_step, fill=True)\n",
    "plt.xticks(np.fromiter((i + 0.5 for i in range(n)), float), (f\"$p_{i}$\" for i in range(1, n + 1)))\n",
    "plt.show()"
   ]
  },
  {
   "cell_type": "code",
   "execution_count": null,
   "id": "9b160f63",
   "metadata": {},
   "outputs": [],
   "source": [
    "a = p.T - np.eye(n)\n",
    "a[0] = 1\n",
    "b = np.hstack((np.ones(1), np.zeros(n - 1)))\n",
    "x = np.linalg.solve(a, b)\n",
    "\n",
    "plt.title(\"Предельное распределение вероятностей по аналитическому решению\")\n",
    "plt.stairs(x, fill=True)\n",
    "plt.xticks(np.fromiter((i + 0.5 for i in range(n)), float), (f\"$p_{i}$\" for i in range(1, n + 1)))\n",
    "plt.show()\n",
    "\n",
    "print(f\"Среднеквадратическое отклонение векторов полученных двумя способами: {(s0_step - x).std()}\")"
   ]
  }
 ],
 "metadata": {
  "jupytext": {
   "formats": "ipynb,py:percent"
  },
  "kernelspec": {
   "display_name": "Python 3 (ipykernel)",
   "language": "python",
   "name": "python3"
  },
  "language_info": {
   "codemirror_mode": {
    "name": "ipython",
    "version": 3
   },
   "file_extension": ".py",
   "mimetype": "text/x-python",
   "name": "python",
   "nbconvert_exporter": "python",
   "pygments_lexer": "ipython3",
   "version": "3.11.6"
  }
 },
 "nbformat": 4,
 "nbformat_minor": 5
}
